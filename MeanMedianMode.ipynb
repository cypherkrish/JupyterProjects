{
 "cells": [
  {
   "cell_type": "code",
   "execution_count": 9,
   "id": "21606332",
   "metadata": {},
   "outputs": [],
   "source": [
    "import numpy as np"
   ]
  },
  {
   "cell_type": "code",
   "execution_count": 10,
   "id": "73f9e062",
   "metadata": {},
   "outputs": [],
   "source": [
    "income = np.random.normal(27000, 15000, 10000)"
   ]
  },
  {
   "cell_type": "code",
   "execution_count": 12,
   "id": "cc1fddc6",
   "metadata": {},
   "outputs": [
    {
     "data": {
      "text/plain": [
       "27041.183374834098"
      ]
     },
     "execution_count": 12,
     "metadata": {},
     "output_type": "execute_result"
    }
   ],
   "source": [
    "np.mean(income)"
   ]
  },
  {
   "cell_type": "code",
   "execution_count": 13,
   "id": "419b2207",
   "metadata": {},
   "outputs": [],
   "source": [
    "%matplotlib inline\n",
    "import matplotlib.pyplot as plt"
   ]
  },
  {
   "cell_type": "code",
   "execution_count": 15,
   "id": "93bff118",
   "metadata": {},
   "outputs": [
    {
     "data": {
      "image/png": "[encoded data removed]",
      "text/plain": [
       "<Figure size 640x480 with 1 Axes>"
      ]
     },
     "metadata": {},
     "output_type": "display_data"
    }
   ],
   "source": [
    "plt.hist(income, 50)\n",
    "plt.show()"
   ]
  },
  {
   "cell_type": "code",
   "execution_count": 16,
   "id": "2868feee",
   "metadata": {},
   "outputs": [
    {
     "data": {
      "text/plain": [
       "27124.21651608926"
      ]
     },
     "execution_count": 16,
     "metadata": {},
     "output_type": "execute_result"
    }
   ],
   "source": [
    "np.median(income)"
   ]
  },
  {
   "cell_type": "code",
   "execution_count": 17,
   "id": "038f2cb8",
   "metadata": {},
   "outputs": [
    {
     "data": {
      "text/plain": [
       "27041.183374834098"
      ]
     },
     "execution_count": 17,
     "metadata": {},
     "output_type": "execute_result"
    }
   ],
   "source": [
    "np.mean(income)"
   ]
  },
  {
   "cell_type": "code",
   "execution_count": 18,
   "id": "56fd0251",
   "metadata": {},
   "outputs": [],
   "source": [
    "income = np.append(income, [1000000000])"
   ]
  },
  {
   "cell_type": "code",
   "execution_count": 19,
   "id": "d786e3e2",
   "metadata": {},
   "outputs": [
    {
     "data": {
      "text/plain": [
       "127028.48052678141"
      ]
     },
     "execution_count": 19,
     "metadata": {},
     "output_type": "execute_result"
    }
   ],
   "source": [
    "np.mean(income)"
   ]
  },
  {
   "cell_type": "code",
   "execution_count": 20,
   "id": "f0b1bb6e",
   "metadata": {},
   "outputs": [
    {
     "data": {
      "text/plain": [
       "27124.361776417372"
      ]
     },
     "execution_count": 20,
     "metadata": {},
     "output_type": "execute_result"
    }
   ],
   "source": [
    "np.median(income)"
   ]
  },
  {
   "cell_type": "markdown",
   "id": "352b50c6",
   "metadata": {},
   "source": [
    "## Mode"
   ]
  },
  {
   "cell_type": "code",
   "execution_count": 23,
   "id": "8a9b747b",
   "metadata": {},
   "outputs": [
    {
     "data": {
      "text/plain": [
       "array([71, 81, 86, 88, 84, 43, 78, 30, 40, 50, 48, 85, 26, 40, 84, 69, 59,\n",
       "       20, 31, 64, 88, 33, 30, 55, 81, 47, 38, 71, 64, 18, 29, 41, 51, 61,\n",
       "       65, 23, 58, 19, 71, 28, 83, 29, 55, 29, 67, 43, 35, 52, 59, 83, 59,\n",
       "       77, 77, 68, 74, 53, 87, 61, 63, 83, 42, 72, 73, 34, 60, 37, 54, 56,\n",
       "       62, 83, 45, 74, 45, 57, 20, 79, 29, 43, 86, 85, 60, 85, 30, 44, 35,\n",
       "       62, 31, 47, 70, 83, 32, 79, 30, 79, 71, 58, 63, 30, 26, 68, 44, 18,\n",
       "       66, 72, 22, 52, 23, 26, 86, 76, 79, 23, 83, 71, 66, 74, 85, 56, 74,\n",
       "       49, 47, 79, 66, 26, 36, 48, 38, 58, 36, 86, 19, 76, 37, 45, 43, 42,\n",
       "       86, 77, 40, 87, 65, 23, 46, 18, 76, 85, 81, 62, 70, 42, 65, 76, 77,\n",
       "       61, 47, 20, 49, 32, 30, 23, 22, 23, 32, 81, 36, 35, 25, 66, 32, 25,\n",
       "       30, 80, 65, 55, 20, 66, 38, 40, 69, 60, 74, 65, 61, 51, 26, 42, 27,\n",
       "       37, 23, 62, 44, 58, 23, 63, 52, 45, 69, 33, 33, 68, 75, 83, 57, 69,\n",
       "       84, 69, 67, 18, 29, 86, 67, 28, 37, 49, 73, 71, 29, 82, 45, 87, 55,\n",
       "       22, 44, 42, 55, 49, 66, 80, 79, 89, 29, 72, 49, 45, 82, 26, 37, 66,\n",
       "       25, 82, 40, 60, 20, 62, 35, 64, 80, 89, 36, 47, 62, 69, 18, 88, 24,\n",
       "       43, 30, 41, 64, 25, 31, 22, 56, 26, 54, 88, 46, 31, 59, 52, 59, 61,\n",
       "       45, 29, 76, 87, 33, 34, 61, 26, 33, 72, 59, 24, 72, 56, 89, 86, 19,\n",
       "       48, 69, 35, 63, 27, 51, 39, 69, 45, 55, 61, 46, 42, 80, 20, 70, 72,\n",
       "       28, 34, 24, 24, 32, 83, 27, 88, 82, 46, 38, 56, 73, 44, 26, 64, 71,\n",
       "       69, 20, 63, 75, 86, 29, 39, 39, 36, 44, 86, 23, 52, 45, 52, 63, 35,\n",
       "       60, 58, 78, 36, 36, 87, 28, 75, 20, 78, 56, 76, 41, 87, 60, 68, 71,\n",
       "       65, 34, 71, 68, 67, 38, 47, 63, 86, 37, 26, 70, 69, 61, 72, 24, 23,\n",
       "       85, 34, 48, 68, 20, 65, 61, 77, 62, 35, 62, 52, 78, 37, 47, 65, 79,\n",
       "       60, 33, 64, 25, 47, 63, 32, 25, 60, 41, 25, 81, 23, 74, 29, 76, 63,\n",
       "       36, 30, 68, 25, 83, 29, 45, 47, 67, 28, 41, 23, 82, 36, 22, 66, 31,\n",
       "       72, 70, 87, 29, 25, 89, 20, 57, 39, 67, 72, 83, 30, 56, 32, 51, 85,\n",
       "       75, 79, 85, 37, 57, 41, 48, 20, 58, 58, 73, 61, 81, 40, 37, 41, 75,\n",
       "       65, 36, 38, 51, 19, 87, 27, 42, 31, 81, 53, 67, 35, 61, 76, 85, 57,\n",
       "       27, 89, 27, 38, 81, 29, 48, 55, 31, 88, 45, 87, 79, 26, 88, 30, 68,\n",
       "       63, 27, 56, 30, 77, 19, 88])"
      ]
     },
     "execution_count": 23,
     "metadata": {},
     "output_type": "execute_result"
    }
   ],
   "source": [
    "ages = np.random.randint(18, high = 90, size = 500)\n",
    "ages"
   ]
  },
  {
   "cell_type": "code",
   "execution_count": 24,
   "id": "ba114fee",
   "metadata": {},
   "outputs": [
    {
     "data": {
      "text/plain": [
       "ModeResult(mode=array([29]), count=array([13]))"
      ]
     },
     "execution_count": 24,
     "metadata": {},
     "output_type": "execute_result"
    }
   ],
   "source": [
    "from scipy import stats\n",
    "stats.mode(ages)"
   ]
  },
  {
   "cell_type": "code",
   "execution_count": null,
   "id": "30da8f75",
   "metadata": {},
   "outputs": [],
   "source": []
  }
 ],
 "metadata": {
  "kernelspec": {
   "display_name": "Python 3 (ipykernel)",
   "language": "python",
   "name": "python3"
  },
  "language_info": {
   "codemirror_mode": {
    "name": "ipython",
    "version": 3
   },
   "file_extension": ".py",
   "mimetype": "text/x-python",
   "name": "python",
   "nbconvert_exporter": "python",
   "pygments_lexer": "ipython3",
   "version": "3.10.5"
  }
 },
 "nbformat": 4,
 "nbformat_minor": 5
}
