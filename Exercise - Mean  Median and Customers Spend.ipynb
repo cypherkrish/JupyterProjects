{
 "cells": [
  {
   "cell_type": "markdown",
   "id": "543d32d1",
   "metadata": {},
   "source": [
    "# Exercise: Mean , Median and Customser Spend"
   ]
  },
  {
   "cell_type": "code",
   "execution_count": 3,
   "id": "d83d4a84",
   "metadata": {},
   "outputs": [],
   "source": [
    "import numpy as np\n",
    "import matplotlib.pyplot as plt"
   ]
  },
  {
   "cell_type": "code",
   "execution_count": 4,
   "id": "e298514b",
   "metadata": {},
   "outputs": [],
   "source": [
    "income = np.random.normal()"
   ]
  },
  {
   "cell_type": "code",
   "execution_count": null,
   "id": "ba5b1cf1",
   "metadata": {},
   "outputs": [],
   "source": []
  }
 ],
 "metadata": {
  "kernelspec": {
   "display_name": "Python 3 (ipykernel)",
   "language": "python",
   "name": "python3"
  },
  "language_info": {
   "codemirror_mode": {
    "name": "ipython",
    "version": 3
   },
   "file_extension": ".py",
   "mimetype": "text/x-python",
   "name": "python",
   "nbconvert_exporter": "python",
   "pygments_lexer": "ipython3",
   "version": "3.10.5"
  }
 },
 "nbformat": 4,
 "nbformat_minor": 5
}
