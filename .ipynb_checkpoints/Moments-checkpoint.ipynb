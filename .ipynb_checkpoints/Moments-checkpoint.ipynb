{
 "cells": [
  {
   "cell_type": "markdown",
   "id": "eebf1ebf",
   "metadata": {},
   "source": [
    "## Moments: Mean, variance, Skew, Kurtosis"
   ]
  },
  {
   "cell_type": "code",
   "execution_count": 1,
   "id": "a1a50dee",
   "metadata": {},
   "outputs": [],
   "source": [
    "import numpy as np\n",
    "import matplotlib.pyplot as plt"
   ]
  },
  {
   "cell_type": "code",
   "execution_count": 2,
   "id": "e72aaa8c",
   "metadata": {},
   "outputs": [],
   "source": [
    "vals = np.random.normal(0, 0.5, 1000)"
   ]
  },
  {
   "cell_type": "code",
   "execution_count": 4,
   "id": "20e487d4",
   "metadata": {},
   "outputs": [
    {
     "data": {
      "image/png": "[encoded data removed]",
      "text/plain": [
       "<Figure size 640x480 with 1 Axes>"
      ]
     },
     "metadata": {},
     "output_type": "display_data"
    }
   ],
   "source": [
    "plt.hist(vals, 50)\n",
    "plt.show()"
   ]
  },
  {
   "cell_type": "markdown",
   "id": "da0f6388",
   "metadata": {},
   "source": [
    "### First moment is mean"
   ]
  },
  {
   "cell_type": "code",
   "execution_count": 8,
   "id": "0ed252ed",
   "metadata": {},
   "outputs": [
    {
     "data": {
      "text/plain": [
       "-0.0034184332647280978"
      ]
     },
     "execution_count": 8,
     "metadata": {},
     "output_type": "execute_result"
    }
   ],
   "source": [
    "np.mean(vals)"
   ]
  },
  {
   "cell_type": "code",
   "execution_count": 9,
   "id": "aba18d74",
   "metadata": {},
   "outputs": [],
   "source": [
    "### Second moment is variance"
   ]
  },
  {
   "cell_type": "code",
   "execution_count": 12,
   "id": "8dc4199a",
   "metadata": {},
   "outputs": [
    {
     "data": {
      "text/plain": [
       "0.2605320670331451"
      ]
     },
     "execution_count": 12,
     "metadata": {},
     "output_type": "execute_result"
    }
   ],
   "source": [
    "np.var(vals)"
   ]
  },
  {
   "cell_type": "markdown",
   "id": "33496cb3",
   "metadata": {},
   "source": [
    "### Third moment is skew - Since our data is already evenly distribued around the \n",
    "### centered value then this might be close to Zero"
   ]
  },
  {
   "cell_type": "code",
   "execution_count": 16,
   "id": "25543382",
   "metadata": {},
   "outputs": [],
   "source": [
    "import scipy.stats as sp"
   ]
  },
  {
   "cell_type": "code",
   "execution_count": 17,
   "id": "c7f230e4",
   "metadata": {},
   "outputs": [
    {
     "data": {
      "text/plain": [
       "-0.05038086616575497"
      ]
     },
     "execution_count": 17,
     "metadata": {},
     "output_type": "execute_result"
    }
   ],
   "source": [
    "sp.skew(vals)"
   ]
  },
  {
   "cell_type": "markdown",
   "id": "947a8b3d",
   "metadata": {},
   "source": [
    "### For devenly or normally distributed sets the the Kurtosis will also be almost zero"
   ]
  },
  {
   "cell_type": "markdown",
   "id": "e3ba9aa2",
   "metadata": {},
   "source": [
    "### Fourth moment is kurtosis"
   ]
  },
  {
   "cell_type": "code",
   "execution_count": 21,
   "id": "2e705a64",
   "metadata": {},
   "outputs": [
    {
     "data": {
      "text/plain": [
       "-0.12672485206026884"
      ]
     },
     "execution_count": 21,
     "metadata": {},
     "output_type": "execute_result"
    }
   ],
   "source": [
    "sp.kurtosis(vals)"
   ]
  },
  {
   "cell_type": "code",
   "execution_count": null,
   "id": "851e8df1",
   "metadata": {},
   "outputs": [],
   "source": []
  }
 ],
 "metadata": {
  "kernelspec": {
   "display_name": "Python 3 (ipykernel)",
   "language": "python",
   "name": "python3"
  },
  "language_info": {
   "codemirror_mode": {
    "name": "ipython",
    "version": 3
   },
   "file_extension": ".py",
   "mimetype": "text/x-python",
   "name": "python",
   "nbconvert_exporter": "python",
   "pygments_lexer": "ipython3",
   "version": "3.10.5"
  }
 },
 "nbformat": 4,
 "nbformat_minor": 5
}
