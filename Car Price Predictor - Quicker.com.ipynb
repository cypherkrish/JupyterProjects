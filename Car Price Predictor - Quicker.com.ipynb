{
 "cells": [
  {
   "cell_type": "code",
   "execution_count": 2,
   "id": "2cd0d20f",
   "metadata": {},
   "outputs": [],
   "source": [
    "import pandas as pd"
   ]
  },
  {
   "cell_type": "code",
   "execution_count": 3,
   "id": "c07ec7e3",
   "metadata": {},
   "outputs": [],
   "source": [
    "car = pd.read_csv(\"E:/MLProjects/Car Price Predictor - Quikr/Quikr_car.csv\")"
   ]
  },
  {
   "cell_type": "code",
   "execution_count": 4,
   "id": "d53c6dfa",
   "metadata": {},
   "outputs": [
    {
     "data": {
      "text/html": [
       "<div>\n",
       "<style scoped>\n",
       "    .dataframe tbody tr th:only-of-type {\n",
       "        vertical-align: middle;\n",
       "    }\n",
       "\n",
       "    .dataframe tbody tr th {\n",
       "        vertical-align: top;\n",
       "    }\n",
       "\n",
       "    .dataframe thead th {\n",
       "        text-align: right;\n",
       "    }\n",
       "</style>\n",
       "<table border=\"1\" class=\"dataframe\">\n",
       "  <thead>\n",
       "    <tr style=\"text-align: right;\">\n",
       "      <th></th>\n",
       "      <th>Unnamed: 0</th>\n",
       "      <th>Name</th>\n",
       "      <th>Label</th>\n",
       "      <th>Location</th>\n",
       "      <th>Price</th>\n",
       "      <th>Kms_driven</th>\n",
       "      <th>Fuel_type</th>\n",
       "      <th>Owner</th>\n",
       "      <th>Year</th>\n",
       "      <th>Company</th>\n",
       "    </tr>\n",
       "  </thead>\n",
       "  <tbody>\n",
       "    <tr>\n",
       "      <th>0</th>\n",
       "      <td>0</td>\n",
       "      <td>Ford Figo Duratec Petrol EXI 1.2 - 2015</td>\n",
       "      <td>PLATINUM</td>\n",
       "      <td>Bangalore</td>\n",
       "      <td>₹3,80,000</td>\n",
       "      <td>35,056 kms</td>\n",
       "      <td>Petrol</td>\n",
       "      <td>NaN</td>\n",
       "      <td>2015</td>\n",
       "      <td>Ford</td>\n",
       "    </tr>\n",
       "    <tr>\n",
       "      <th>1</th>\n",
       "      <td>1</td>\n",
       "      <td>Maruti Suzuki Wagon R VXI BS IV - 2016</td>\n",
       "      <td>PLATINUM</td>\n",
       "      <td>Bangalore</td>\n",
       "      <td>₹4,65,000</td>\n",
       "      <td>44,000 kms</td>\n",
       "      <td>Petrol</td>\n",
       "      <td>NaN</td>\n",
       "      <td>2016</td>\n",
       "      <td>Maruti</td>\n",
       "    </tr>\n",
       "    <tr>\n",
       "      <th>2</th>\n",
       "      <td>2</td>\n",
       "      <td>Hyundai Creta 1.6 SX PLUS AUTO PETROL - 2018</td>\n",
       "      <td>PLATINUM</td>\n",
       "      <td>Bangalore</td>\n",
       "      <td>₹13,50,000</td>\n",
       "      <td>42,917 kms</td>\n",
       "      <td>Petrol</td>\n",
       "      <td>NaN</td>\n",
       "      <td>2018</td>\n",
       "      <td>Hyundai</td>\n",
       "    </tr>\n",
       "    <tr>\n",
       "      <th>3</th>\n",
       "      <td>3</td>\n",
       "      <td>Hyundai Venue - 2019</td>\n",
       "      <td>PLATINUM</td>\n",
       "      <td>Chennai</td>\n",
       "      <td>₹10,19,699</td>\n",
       "      <td>16,112 kms</td>\n",
       "      <td>Petrol</td>\n",
       "      <td>2nd Owner</td>\n",
       "      <td>2019</td>\n",
       "      <td>Hyundai</td>\n",
       "    </tr>\n",
       "    <tr>\n",
       "      <th>4</th>\n",
       "      <td>4</td>\n",
       "      <td>Honda Jazz - 2017</td>\n",
       "      <td>PLATINUM</td>\n",
       "      <td>Pune</td>\n",
       "      <td>₹7,13,499</td>\n",
       "      <td>30,988 kms</td>\n",
       "      <td>Petrol</td>\n",
       "      <td>2nd Owner</td>\n",
       "      <td>2017</td>\n",
       "      <td>Honda</td>\n",
       "    </tr>\n",
       "  </tbody>\n",
       "</table>\n",
       "</div>"
      ],
      "text/plain": [
       "   Unnamed: 0                                          Name     Label  \\\n",
       "0           0       Ford Figo Duratec Petrol EXI 1.2 - 2015  PLATINUM   \n",
       "1           1        Maruti Suzuki Wagon R VXI BS IV - 2016  PLATINUM   \n",
       "2           2  Hyundai Creta 1.6 SX PLUS AUTO PETROL - 2018  PLATINUM   \n",
       "3           3                          Hyundai Venue - 2019  PLATINUM   \n",
       "4           4                             Honda Jazz - 2017  PLATINUM   \n",
       "\n",
       "    Location       Price   Kms_driven Fuel_type       Owner  Year  Company  \n",
       "0  Bangalore   ₹3,80,000  35,056 kms     Petrol         NaN  2015     Ford  \n",
       "1  Bangalore   ₹4,65,000  44,000 kms     Petrol         NaN  2016   Maruti  \n",
       "2  Bangalore  ₹13,50,000  42,917 kms     Petrol         NaN  2018  Hyundai  \n",
       "3    Chennai  ₹10,19,699  16,112 kms    Petrol    2nd Owner  2019  Hyundai  \n",
       "4       Pune   ₹7,13,499  30,988 kms    Petrol    2nd Owner  2017    Honda  "
      ]
     },
     "execution_count": 4,
     "metadata": {},
     "output_type": "execute_result"
    }
   ],
   "source": [
    "car.head()"
   ]
  },
  {
   "cell_type": "code",
   "execution_count": 5,
   "id": "db50d8c9",
   "metadata": {},
   "outputs": [
    {
     "name": "stdout",
     "output_type": "stream",
     "text": [
      "<class 'pandas.core.frame.DataFrame'>\n",
      "RangeIndex: 1032 entries, 0 to 1031\n",
      "Data columns (total 10 columns):\n",
      " #   Column      Non-Null Count  Dtype \n",
      "---  ------      --------------  ----- \n",
      " 0   Unnamed: 0  1032 non-null   int64 \n",
      " 1   Name        1032 non-null   object\n",
      " 2   Label       1032 non-null   object\n",
      " 3   Location    1030 non-null   object\n",
      " 4   Price       1032 non-null   object\n",
      " 5   Kms_driven  1032 non-null   object\n",
      " 6   Fuel_type   1032 non-null   object\n",
      " 7   Owner       740 non-null    object\n",
      " 8   Year        1032 non-null   int64 \n",
      " 9   Company     1032 non-null   object\n",
      "dtypes: int64(2), object(8)\n",
      "memory usage: 80.8+ KB\n"
     ]
    }
   ],
   "source": [
    " car.info()"
   ]
  },
  {
   "cell_type": "code",
   "execution_count": 6,
   "id": "1312e930",
   "metadata": {},
   "outputs": [
    {
     "data": {
      "text/plain": [
       "(1032, 10)"
      ]
     },
     "execution_count": 6,
     "metadata": {},
     "output_type": "execute_result"
    }
   ],
   "source": [
    "car.shape"
   ]
  },
  {
   "cell_type": "code",
   "execution_count": null,
   "id": "044ca3d3",
   "metadata": {},
   "outputs": [],
   "source": []
  }
 ],
 "metadata": {
  "kernelspec": {
   "display_name": "Python 3 (ipykernel)",
   "language": "python",
   "name": "python3"
  },
  "language_info": {
   "codemirror_mode": {
    "name": "ipython",
    "version": 3
   },
   "file_extension": ".py",
   "mimetype": "text/x-python",
   "name": "python",
   "nbconvert_exporter": "python",
   "pygments_lexer": "ipython3",
   "version": "3.10.5"
  }
 },
 "nbformat": 4,
 "nbformat_minor": 5
}
