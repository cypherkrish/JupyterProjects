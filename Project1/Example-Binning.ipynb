{
 "cells": [
  {
   "cell_type": "code",
   "execution_count": 1,
   "id": "1d39ca23",
   "metadata": {},
   "outputs": [
    {
     "name": "stdout",
     "output_type": "stream",
     "text": [
      "    age  income age_binned\n",
      "0    25   50000      20-29\n",
      "1    30   55000      20-29\n",
      "2    35   60000      30-39\n",
      "3    40   65000      30-39\n",
      "4    45   70000      40-49\n",
      "5    50   75000      40-49\n",
      "6    55   80000      50-59\n",
      "7    60   85000      50-59\n",
      "8    65   90000      60-69\n",
      "9    70   95000      60-69\n",
      "10   75  100000      70-79\n",
      "11   80  105000      70-79\n"
     ]
    }
   ],
   "source": [
    "import pandas as pd\n",
    "\n",
    "# Create a sample dataset\n",
    "data = {'age': [25, 30, 35, 40, 45, 50, 55, 60, 65, 70, 75, 80],\n",
    "        'income': [50000, 55000, 60000, 65000, 70000, 75000, 80000, 85000, 90000, 95000, 100000, 105000]}\n",
    "df = pd.DataFrame(data)\n",
    "\n",
    "# Create bins for the age column\n",
    "bins = [20, 30, 40, 50, 60, 70, 80, 90]\n",
    "\n",
    "# Create labels for the bins\n",
    "labels = ['20-29', '30-39', '40-49', '50-59', '60-69', '70-79', '80-89']\n",
    "\n",
    "# Bin the age column using the cut() function\n",
    "df['age_binned'] = pd.cut(df['age'], bins=bins, labels=labels)\n",
    "\n",
    "# Print the resulting dataframe\n",
    "print(df)"
   ]
  },
  {
   "cell_type": "code",
   "execution_count": null,
   "id": "a3b0912d",
   "metadata": {},
   "outputs": [],
   "source": []
  }
 ],
 "metadata": {
  "kernelspec": {
   "display_name": "Python 3 (ipykernel)",
   "language": "python",
   "name": "python3"
  },
  "language_info": {
   "codemirror_mode": {
    "name": "ipython",
    "version": 3
   },
   "file_extension": ".py",
   "mimetype": "text/x-python",
   "name": "python",
   "nbconvert_exporter": "python",
   "pygments_lexer": "ipython3",
   "version": "3.10.5"
  }
 },
 "nbformat": 4,
 "nbformat_minor": 5
}
