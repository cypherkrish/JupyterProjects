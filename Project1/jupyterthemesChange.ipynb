{
 "cells": [
  {
   "cell_type": "code",
   "execution_count": 1,
   "id": "025a56fb",
   "metadata": {},
   "outputs": [
    {
     "name": "stdout",
     "output_type": "stream",
     "text": [
      "Requirement already satisfied: jupyterthemes in c:\\users\\hellooo\\appdata\\local\\programs\\python\\python310\\lib\\site-packages (0.20.0)\n",
      "Requirement already satisfied: lesscpy>=0.11.2 in c:\\users\\hellooo\\appdata\\local\\programs\\python\\python310\\lib\\site-packages (from jupyterthemes) (0.15.1)\n",
      "Requirement already satisfied: ipython>=5.4.1 in c:\\users\\hellooo\\appdata\\local\\programs\\python\\python310\\lib\\site-packages (from jupyterthemes) (8.9.0)\n",
      "Requirement already satisfied: notebook>=5.6.0 in c:\\users\\hellooo\\appdata\\local\\programs\\python\\python310\\lib\\site-packages (from jupyterthemes) (6.5.2)\n",
      "Requirement already satisfied: matplotlib>=1.4.3 in c:\\users\\hellooo\\appdata\\local\\programs\\python\\python310\\lib\\site-packages (from jupyterthemes) (3.6.3)\n",
      "Requirement already satisfied: jupyter-core in c:\\users\\hellooo\\appdata\\local\\programs\\python\\python310\\lib\\site-packages (from jupyterthemes) (5.1.5)\n",
      "Requirement already satisfied: decorator in c:\\users\\hellooo\\appdata\\local\\programs\\python\\python310\\lib\\site-packages (from ipython>=5.4.1->jupyterthemes) (5.1.1)\n",
      "Requirement already satisfied: pickleshare in c:\\users\\hellooo\\appdata\\local\\programs\\python\\python310\\lib\\site-packages (from ipython>=5.4.1->jupyterthemes) (0.7.5)\n",
      "Requirement already satisfied: matplotlib-inline in c:\\users\\hellooo\\appdata\\local\\programs\\python\\python310\\lib\\site-packages (from ipython>=5.4.1->jupyterthemes) (0.1.6)\n",
      "Requirement already satisfied: stack-data in c:\\users\\hellooo\\appdata\\local\\programs\\python\\python310\\lib\\site-packages (from ipython>=5.4.1->jupyterthemes) (0.6.2)\n",
      "Requirement already satisfied: colorama in c:\\users\\hellooo\\appdata\\local\\programs\\python\\python310\\lib\\site-packages (from ipython>=5.4.1->jupyterthemes) (0.4.5)\n",
      "Requirement already satisfied: prompt-toolkit<3.1.0,>=3.0.30 in c:\\users\\hellooo\\appdata\\local\\programs\\python\\python310\\lib\\site-packages (from ipython>=5.4.1->jupyterthemes) (3.0.36)\n",
      "Requirement already satisfied: pygments>=2.4.0 in c:\\users\\hellooo\\appdata\\local\\programs\\python\\python310\\lib\\site-packages (from ipython>=5.4.1->jupyterthemes) (2.14.0)\n",
      "Requirement already satisfied: backcall in c:\\users\\hellooo\\appdata\\local\\programs\\python\\python310\\lib\\site-packages (from ipython>=5.4.1->jupyterthemes) (0.2.0)\n",
      "Requirement already satisfied: jedi>=0.16 in c:\\users\\hellooo\\appdata\\local\\programs\\python\\python310\\lib\\site-packages (from ipython>=5.4.1->jupyterthemes) (0.18.2)\n",
      "Requirement already satisfied: traitlets>=5 in c:\\users\\hellooo\\appdata\\local\\programs\\python\\python310\\lib\\site-packages (from ipython>=5.4.1->jupyterthemes) (5.8.1)\n",
      "Requirement already satisfied: ply in c:\\users\\hellooo\\appdata\\local\\programs\\python\\python310\\lib\\site-packages (from lesscpy>=0.11.2->jupyterthemes) (3.11)\n",
      "Requirement already satisfied: cycler>=0.10 in c:\\users\\hellooo\\appdata\\local\\programs\\python\\python310\\lib\\site-packages (from matplotlib>=1.4.3->jupyterthemes) (0.11.0)\n",
      "Requirement already satisfied: numpy>=1.19 in c:\\users\\hellooo\\appdata\\local\\programs\\python\\python310\\lib\\site-packages (from matplotlib>=1.4.3->jupyterthemes) (1.23.1)\n",
      "Requirement already satisfied: python-dateutil>=2.7 in c:\\users\\hellooo\\appdata\\local\\programs\\python\\python310\\lib\\site-packages (from matplotlib>=1.4.3->jupyterthemes) (2.8.2)\n",
      "Requirement already satisfied: pyparsing>=2.2.1 in c:\\users\\hellooo\\appdata\\local\\programs\\python\\python310\\lib\\site-packages (from matplotlib>=1.4.3->jupyterthemes) (3.0.9)\n",
      "Requirement already satisfied: kiwisolver>=1.0.1 in c:\\users\\hellooo\\appdata\\local\\programs\\python\\python310\\lib\\site-packages (from matplotlib>=1.4.3->jupyterthemes) (1.4.4)\n",
      "Requirement already satisfied: packaging>=20.0 in c:\\users\\hellooo\\appdata\\local\\programs\\python\\python310\\lib\\site-packages (from matplotlib>=1.4.3->jupyterthemes) (23.0)\n",
      "Requirement already satisfied: contourpy>=1.0.1 in c:\\users\\hellooo\\appdata\\local\\programs\\python\\python310\\lib\\site-packages (from matplotlib>=1.4.3->jupyterthemes) (1.0.7)\n",
      "Requirement already satisfied: pillow>=6.2.0 in c:\\users\\hellooo\\appdata\\local\\programs\\python\\python310\\lib\\site-packages (from matplotlib>=1.4.3->jupyterthemes) (9.4.0)\n",
      "Requirement already satisfied: fonttools>=4.22.0 in c:\\users\\hellooo\\appdata\\local\\programs\\python\\python310\\lib\\site-packages (from matplotlib>=1.4.3->jupyterthemes) (4.38.0)\n",
      "Requirement already satisfied: ipykernel in c:\\users\\hellooo\\appdata\\local\\programs\\python\\python310\\lib\\site-packages (from notebook>=5.6.0->jupyterthemes) (6.20.2)\n",
      "Requirement already satisfied: jinja2 in c:\\users\\hellooo\\appdata\\local\\programs\\python\\python310\\lib\\site-packages (from notebook>=5.6.0->jupyterthemes) (3.1.2)\n",
      "Requirement already satisfied: jupyter-client>=5.3.4 in c:\\users\\hellooo\\appdata\\local\\programs\\python\\python310\\lib\\site-packages (from notebook>=5.6.0->jupyterthemes) (8.0.1)\n",
      "Requirement already satisfied: nbformat in c:\\users\\hellooo\\appdata\\local\\programs\\python\\python310\\lib\\site-packages (from notebook>=5.6.0->jupyterthemes) (5.7.3)\n",
      "Requirement already satisfied: nbclassic>=0.4.7 in c:\\users\\hellooo\\appdata\\local\\programs\\python\\python310\\lib\\site-packages (from notebook>=5.6.0->jupyterthemes) (0.5.1)\n",
      "Requirement already satisfied: Send2Trash>=1.8.0 in c:\\users\\hellooo\\appdata\\local\\programs\\python\\python310\\lib\\site-packages (from notebook>=5.6.0->jupyterthemes) (1.8.0)\n",
      "Requirement already satisfied: pyzmq>=17 in c:\\users\\hellooo\\appdata\\local\\programs\\python\\python310\\lib\\site-packages (from notebook>=5.6.0->jupyterthemes) (25.0.0)\n",
      "Requirement already satisfied: tornado>=6.1 in c:\\users\\hellooo\\appdata\\local\\programs\\python\\python310\\lib\\site-packages (from notebook>=5.6.0->jupyterthemes) (6.2)\n",
      "Requirement already satisfied: nest-asyncio>=1.5 in c:\\users\\hellooo\\appdata\\local\\programs\\python\\python310\\lib\\site-packages (from notebook>=5.6.0->jupyterthemes) (1.5.6)\n",
      "Requirement already satisfied: terminado>=0.8.3 in c:\\users\\hellooo\\appdata\\local\\programs\\python\\python310\\lib\\site-packages (from notebook>=5.6.0->jupyterthemes) (0.17.1)\n",
      "Requirement already satisfied: nbconvert>=5 in c:\\users\\hellooo\\appdata\\local\\programs\\python\\python310\\lib\\site-packages (from notebook>=5.6.0->jupyterthemes) (7.2.9)\n",
      "Requirement already satisfied: ipython-genutils in c:\\users\\hellooo\\appdata\\local\\programs\\python\\python310\\lib\\site-packages (from notebook>=5.6.0->jupyterthemes) (0.2.0)\n",
      "Requirement already satisfied: prometheus-client in c:\\users\\hellooo\\appdata\\local\\programs\\python\\python310\\lib\\site-packages (from notebook>=5.6.0->jupyterthemes) (0.16.0)\n",
      "Requirement already satisfied: argon2-cffi in c:\\users\\hellooo\\appdata\\local\\programs\\python\\python310\\lib\\site-packages (from notebook>=5.6.0->jupyterthemes) (21.3.0)\n",
      "Requirement already satisfied: pywin32>=1.0 in c:\\users\\hellooo\\appdata\\local\\programs\\python\\python310\\lib\\site-packages (from jupyter-core->jupyterthemes) (305)\n",
      "Requirement already satisfied: platformdirs>=2.5 in c:\\users\\hellooo\\appdata\\local\\programs\\python\\python310\\lib\\site-packages (from jupyter-core->jupyterthemes) (2.6.2)\n",
      "Requirement already satisfied: parso<0.9.0,>=0.8.0 in c:\\users\\hellooo\\appdata\\local\\programs\\python\\python310\\lib\\site-packages (from jedi>=0.16->ipython>=5.4.1->jupyterthemes) (0.8.3)\n",
      "Requirement already satisfied: notebook-shim>=0.1.0 in c:\\users\\hellooo\\appdata\\local\\programs\\python\\python310\\lib\\site-packages (from nbclassic>=0.4.7->notebook>=5.6.0->jupyterthemes) (0.2.2)\n",
      "Requirement already satisfied: jupyter-server>=1.8 in c:\\users\\hellooo\\appdata\\local\\programs\\python\\python310\\lib\\site-packages (from nbclassic>=0.4.7->notebook>=5.6.0->jupyterthemes) (2.1.0)\n",
      "Requirement already satisfied: bleach in c:\\users\\hellooo\\appdata\\local\\programs\\python\\python310\\lib\\site-packages (from nbconvert>=5->notebook>=5.6.0->jupyterthemes) (6.0.0)\n",
      "Requirement already satisfied: jupyterlab-pygments in c:\\users\\hellooo\\appdata\\local\\programs\\python\\python310\\lib\\site-packages (from nbconvert>=5->notebook>=5.6.0->jupyterthemes) (0.2.2)\n",
      "Requirement already satisfied: defusedxml in c:\\users\\hellooo\\appdata\\local\\programs\\python\\python310\\lib\\site-packages (from nbconvert>=5->notebook>=5.6.0->jupyterthemes) (0.7.1)\n",
      "Requirement already satisfied: markupsafe>=2.0 in c:\\users\\hellooo\\appdata\\local\\programs\\python\\python310\\lib\\site-packages (from nbconvert>=5->notebook>=5.6.0->jupyterthemes) (2.1.1)\n",
      "Requirement already satisfied: pandocfilters>=1.4.1 in c:\\users\\hellooo\\appdata\\local\\programs\\python\\python310\\lib\\site-packages (from nbconvert>=5->notebook>=5.6.0->jupyterthemes) (1.5.0)\n",
      "Requirement already satisfied: tinycss2 in c:\\users\\hellooo\\appdata\\local\\programs\\python\\python310\\lib\\site-packages (from nbconvert>=5->notebook>=5.6.0->jupyterthemes) (1.2.1)\n",
      "Requirement already satisfied: beautifulsoup4 in c:\\users\\hellooo\\appdata\\local\\programs\\python\\python310\\lib\\site-packages (from nbconvert>=5->notebook>=5.6.0->jupyterthemes) (4.11.1)\n",
      "Requirement already satisfied: mistune<3,>=2.0.3 in c:\\users\\hellooo\\appdata\\local\\programs\\python\\python310\\lib\\site-packages (from nbconvert>=5->notebook>=5.6.0->jupyterthemes) (2.0.4)\n",
      "Requirement already satisfied: nbclient>=0.5.0 in c:\\users\\hellooo\\appdata\\local\\programs\\python\\python310\\lib\\site-packages (from nbconvert>=5->notebook>=5.6.0->jupyterthemes) (0.7.2)\n",
      "Requirement already satisfied: jsonschema>=2.6 in c:\\users\\hellooo\\appdata\\local\\programs\\python\\python310\\lib\\site-packages (from nbformat->notebook>=5.6.0->jupyterthemes) (4.17.3)\n",
      "Requirement already satisfied: fastjsonschema in c:\\users\\hellooo\\appdata\\local\\programs\\python\\python310\\lib\\site-packages (from nbformat->notebook>=5.6.0->jupyterthemes) (2.16.2)\n",
      "Requirement already satisfied: wcwidth in c:\\users\\hellooo\\appdata\\local\\programs\\python\\python310\\lib\\site-packages (from prompt-toolkit<3.1.0,>=3.0.30->ipython>=5.4.1->jupyterthemes) (0.2.6)\n",
      "Requirement already satisfied: six>=1.5 in c:\\users\\hellooo\\appdata\\local\\programs\\python\\python310\\lib\\site-packages (from python-dateutil>=2.7->matplotlib>=1.4.3->jupyterthemes) (1.16.0)\n",
      "Requirement already satisfied: pywinpty>=1.1.0 in c:\\users\\hellooo\\appdata\\local\\programs\\python\\python310\\lib\\site-packages (from terminado>=0.8.3->notebook>=5.6.0->jupyterthemes) (2.0.10)\n",
      "Requirement already satisfied: argon2-cffi-bindings in c:\\users\\hellooo\\appdata\\local\\programs\\python\\python310\\lib\\site-packages (from argon2-cffi->notebook>=5.6.0->jupyterthemes) (21.2.0)\n",
      "Requirement already satisfied: debugpy>=1.0 in c:\\users\\hellooo\\appdata\\local\\programs\\python\\python310\\lib\\site-packages (from ipykernel->notebook>=5.6.0->jupyterthemes) (1.6.6)\n",
      "Requirement already satisfied: psutil in c:\\users\\hellooo\\appdata\\local\\programs\\python\\python310\\lib\\site-packages (from ipykernel->notebook>=5.6.0->jupyterthemes) (5.9.4)\n",
      "Requirement already satisfied: comm>=0.1.1 in c:\\users\\hellooo\\appdata\\local\\programs\\python\\python310\\lib\\site-packages (from ipykernel->notebook>=5.6.0->jupyterthemes) (0.1.2)\n",
      "Requirement already satisfied: asttokens>=2.1.0 in c:\\users\\hellooo\\appdata\\local\\programs\\python\\python310\\lib\\site-packages (from stack-data->ipython>=5.4.1->jupyterthemes) (2.2.1)\n",
      "Requirement already satisfied: pure-eval in c:\\users\\hellooo\\appdata\\local\\programs\\python\\python310\\lib\\site-packages (from stack-data->ipython>=5.4.1->jupyterthemes) (0.2.2)\n",
      "Requirement already satisfied: executing>=1.2.0 in c:\\users\\hellooo\\appdata\\local\\programs\\python\\python310\\lib\\site-packages (from stack-data->ipython>=5.4.1->jupyterthemes) (1.2.0)\n",
      "Requirement already satisfied: pyrsistent!=0.17.0,!=0.17.1,!=0.17.2,>=0.14.0 in c:\\users\\hellooo\\appdata\\local\\programs\\python\\python310\\lib\\site-packages (from jsonschema>=2.6->nbformat->notebook>=5.6.0->jupyterthemes) (0.19.3)\n",
      "Requirement already satisfied: attrs>=17.4.0 in c:\\users\\hellooo\\appdata\\local\\programs\\python\\python310\\lib\\site-packages (from jsonschema>=2.6->nbformat->notebook>=5.6.0->jupyterthemes) (22.2.0)\n",
      "Requirement already satisfied: jupyter-events>=0.4.0 in c:\\users\\hellooo\\appdata\\local\\programs\\python\\python310\\lib\\site-packages (from jupyter-server>=1.8->nbclassic>=0.4.7->notebook>=5.6.0->jupyterthemes) (0.6.3)\n",
      "Requirement already satisfied: jupyter-server-terminals in c:\\users\\hellooo\\appdata\\local\\programs\\python\\python310\\lib\\site-packages (from jupyter-server>=1.8->nbclassic>=0.4.7->notebook>=5.6.0->jupyterthemes) (0.4.4)\n",
      "Requirement already satisfied: websocket-client in c:\\users\\hellooo\\appdata\\local\\programs\\python\\python310\\lib\\site-packages (from jupyter-server>=1.8->nbclassic>=0.4.7->notebook>=5.6.0->jupyterthemes) (1.5.0)\n",
      "Requirement already satisfied: anyio<4,>=3.1.0 in c:\\users\\hellooo\\appdata\\local\\programs\\python\\python310\\lib\\site-packages (from jupyter-server>=1.8->nbclassic>=0.4.7->notebook>=5.6.0->jupyterthemes) (3.6.2)\n",
      "Requirement already satisfied: cffi>=1.0.1 in c:\\users\\hellooo\\appdata\\local\\programs\\python\\python310\\lib\\site-packages (from argon2-cffi-bindings->argon2-cffi->notebook>=5.6.0->jupyterthemes) (1.15.1)\n",
      "Requirement already satisfied: soupsieve>1.2 in c:\\users\\hellooo\\appdata\\local\\programs\\python\\python310\\lib\\site-packages (from beautifulsoup4->nbconvert>=5->notebook>=5.6.0->jupyterthemes) (2.3.2.post1)\n",
      "Requirement already satisfied: webencodings in c:\\users\\hellooo\\appdata\\local\\programs\\python\\python310\\lib\\site-packages (from bleach->nbconvert>=5->notebook>=5.6.0->jupyterthemes) (0.5.1)\n",
      "Requirement already satisfied: idna>=2.8 in c:\\users\\hellooo\\appdata\\local\\programs\\python\\python310\\lib\\site-packages (from anyio<4,>=3.1.0->jupyter-server>=1.8->nbclassic>=0.4.7->notebook>=5.6.0->jupyterthemes) (3.4)\n",
      "Requirement already satisfied: sniffio>=1.1 in c:\\users\\hellooo\\appdata\\local\\programs\\python\\python310\\lib\\site-packages (from anyio<4,>=3.1.0->jupyter-server>=1.8->nbclassic>=0.4.7->notebook>=5.6.0->jupyterthemes) (1.3.0)\n",
      "Requirement already satisfied: pycparser in c:\\users\\hellooo\\appdata\\local\\programs\\python\\python310\\lib\\site-packages (from cffi>=1.0.1->argon2-cffi-bindings->argon2-cffi->notebook>=5.6.0->jupyterthemes) (2.21)\n",
      "Requirement already satisfied: python-json-logger>=2.0.4 in c:\\users\\hellooo\\appdata\\local\\programs\\python\\python310\\lib\\site-packages (from jupyter-events>=0.4.0->jupyter-server>=1.8->nbclassic>=0.4.7->notebook>=5.6.0->jupyterthemes) (2.0.4)\n",
      "Requirement already satisfied: pyyaml>=5.3 in c:\\users\\hellooo\\appdata\\local\\programs\\python\\python310\\lib\\site-packages (from jupyter-events>=0.4.0->jupyter-server>=1.8->nbclassic>=0.4.7->notebook>=5.6.0->jupyterthemes) (6.0)\n",
      "Requirement already satisfied: rfc3339-validator in c:\\users\\hellooo\\appdata\\local\\programs\\python\\python310\\lib\\site-packages (from jupyter-events>=0.4.0->jupyter-server>=1.8->nbclassic>=0.4.7->notebook>=5.6.0->jupyterthemes) (0.1.4)\n",
      "Requirement already satisfied: rfc3986-validator>=0.1.1 in c:\\users\\hellooo\\appdata\\local\\programs\\python\\python310\\lib\\site-packages (from jupyter-events>=0.4.0->jupyter-server>=1.8->nbclassic>=0.4.7->notebook>=5.6.0->jupyterthemes) (0.1.1)\n",
      "Requirement already satisfied: webcolors>=1.11 in c:\\users\\hellooo\\appdata\\local\\programs\\python\\python310\\lib\\site-packages (from jsonschema>=2.6->nbformat->notebook>=5.6.0->jupyterthemes) (1.12)\n",
      "Requirement already satisfied: isoduration in c:\\users\\hellooo\\appdata\\local\\programs\\python\\python310\\lib\\site-packages (from jsonschema>=2.6->nbformat->notebook>=5.6.0->jupyterthemes) (20.11.0)\n",
      "Requirement already satisfied: fqdn in c:\\users\\hellooo\\appdata\\local\\programs\\python\\python310\\lib\\site-packages (from jsonschema>=2.6->nbformat->notebook>=5.6.0->jupyterthemes) (1.5.1)\n",
      "Requirement already satisfied: uri-template in c:\\users\\hellooo\\appdata\\local\\programs\\python\\python310\\lib\\site-packages (from jsonschema>=2.6->nbformat->notebook>=5.6.0->jupyterthemes) (1.2.0)\n",
      "Requirement already satisfied: jsonpointer>1.13 in c:\\users\\hellooo\\appdata\\local\\programs\\python\\python310\\lib\\site-packages (from jsonschema>=2.6->nbformat->notebook>=5.6.0->jupyterthemes) (2.3)\n",
      "Requirement already satisfied: arrow>=0.15.0 in c:\\users\\hellooo\\appdata\\local\\programs\\python\\python310\\lib\\site-packages (from isoduration->jsonschema>=2.6->nbformat->notebook>=5.6.0->jupyterthemes) (1.2.3)\n"
     ]
    },
    {
     "name": "stderr",
     "output_type": "stream",
     "text": [
      "WARNING: You are using pip version 22.0.4; however, version 22.3.1 is available.\n",
      "You should consider upgrading via the 'C:\\Users\\hellooo\\AppData\\Local\\Programs\\Python\\Python310\\python.exe -m pip install --upgrade pip' command.\n"
     ]
    }
   ],
   "source": [
    "!pip install jupyterthemes"
   ]
  },
  {
   "cell_type": "code",
   "execution_count": 2,
   "id": "2a085927",
   "metadata": {},
   "outputs": [
    {
     "name": "stdout",
     "output_type": "stream",
     "text": [
      "Available Themes: \n",
      "   chesterish\n",
      "   grade3\n",
      "   gruvboxd\n",
      "   gruvboxl\n",
      "   monokai\n",
      "   oceans16\n",
      "   onedork\n",
      "   solarizedd\n",
      "   solarizedl\n"
     ]
    }
   ],
   "source": [
    "!jt -l"
   ]
  },
  {
   "cell_type": "code",
   "execution_count": 3,
   "id": "f1b949a4",
   "metadata": {},
   "outputs": [
    {
     "name": "stdout",
     "output_type": "stream",
     "text": [
      "usage: jt [-h] [-l] [-t THEME] [-f MONOFONT] [-fs MONOSIZE] [-nf NBFONT]\n",
      "          [-nfs NBFONTSIZE] [-tf TCFONT] [-tfs TCFONTSIZE] [-dfs DFFONTSIZE]\n",
      "          [-ofs OUTFONTSIZE] [-mathfs MATHFONTSIZE] [-m MARGINS]\n",
      "          [-cursw CURSORWIDTH] [-cursc CURSORCOLOR] [-cellw CELLWIDTH]\n",
      "          [-lineh LINEHEIGHT] [-altp] [-altmd] [-altout] [-P] [-T] [-N] [-kl]\n",
      "          [-vim] [-r] [-dfonts]\n",
      "\n",
      "options:\n",
      "  -h, --help            show this help message and exit\n",
      "  -l, --list            list available themes\n",
      "  -t THEME, --theme THEME\n",
      "                        theme name to install\n",
      "  -f MONOFONT, --monofont MONOFONT\n",
      "                        monospace code font\n",
      "  -fs MONOSIZE, --monosize MONOSIZE\n",
      "                        code font-size\n",
      "  -nf NBFONT, --nbfont NBFONT\n",
      "                        notebook font\n",
      "  -nfs NBFONTSIZE, --nbfontsize NBFONTSIZE\n",
      "                        notebook fontsize\n",
      "  -tf TCFONT, --tcfont TCFONT\n",
      "                        txtcell font\n",
      "  -tfs TCFONTSIZE, --tcfontsize TCFONTSIZE\n",
      "                        txtcell fontsize\n",
      "  -dfs DFFONTSIZE, --dffontsize DFFONTSIZE\n",
      "                        pandas dataframe fontsize\n",
      "  -ofs OUTFONTSIZE, --outfontsize OUTFONTSIZE\n",
      "                        output area fontsize\n",
      "  -mathfs MATHFONTSIZE, --mathfontsize MATHFONTSIZE\n",
      "                        mathjax fontsize (in %)\n",
      "  -m MARGINS, --margins MARGINS\n",
      "                        fix margins of main intro page\n",
      "  -cursw CURSORWIDTH, --cursorwidth CURSORWIDTH\n",
      "                        set cursorwidth (px)\n",
      "  -cursc CURSORCOLOR, --cursorcolor CURSORCOLOR\n",
      "                        cursor color (r, b, g, p)\n",
      "  -cellw CELLWIDTH, --cellwidth CELLWIDTH\n",
      "                        set cell width (px or %)\n",
      "  -lineh LINEHEIGHT, --lineheight LINEHEIGHT\n",
      "                        code/text line-height (%)\n",
      "  -altp, --altprompt    alt input prompt style\n",
      "  -altmd, --altmarkdown\n",
      "                        alt markdown cell style\n",
      "  -altout, --altoutput  set output bg color to notebook bg\n",
      "  -P, --hideprompt      hide cell input prompt\n",
      "  -T, --toolbar         make toolbar visible\n",
      "  -N, --nbname          nb name/logo visible\n",
      "  -kl, --kernellogo     kernel logo visible\n",
      "  -vim, --vimext        toggle styles for vim\n",
      "  -r, --reset           reset to default theme\n",
      "  -dfonts, --defaultfonts\n",
      "                        force fonts to browser default\n"
     ]
    }
   ],
   "source": [
    "!jt -h"
   ]
  },
  {
   "cell_type": "code",
   "execution_count": 6,
   "id": "121077c5",
   "metadata": {},
   "outputs": [
    {
     "name": "stdout",
     "output_type": "stream",
     "text": [
      "Available Themes: \n",
      "   chesterish\n",
      "   grade3\n",
      "   gruvboxd\n",
      "   gruvboxl\n",
      "   monokai\n",
      "   oceans16\n",
      "   onedork\n",
      "   solarizedd\n",
      "   solarizedl\n"
     ]
    }
   ],
   "source": [
    "!jt -l"
   ]
  },
  {
   "cell_type": "code",
   "execution_count": 7,
   "id": "757de8f1",
   "metadata": {},
   "outputs": [],
   "source": [
    "!jt -t onedork"
   ]
  },
  {
   "cell_type": "code",
   "execution_count": 8,
   "id": "3d5b9605",
   "metadata": {},
   "outputs": [
    {
     "name": "stdout",
     "output_type": "stream",
     "text": [
      "Reset css and font defaults in:\n",
      "C:\\Users\\hellooo\\.jupyter\\custom &\n",
      "C:\\Users\\hellooo\\AppData\\Roaming\\jupyter\\nbextensions\n"
     ]
    }
   ],
   "source": [
    "!jt -r"
   ]
  },
  {
   "cell_type": "code",
   "execution_count": null,
   "id": "e462e587",
   "metadata": {},
   "outputs": [],
   "source": []
  }
 ],
 "metadata": {
  "kernelspec": {
   "display_name": "Python 3 (ipykernel)",
   "language": "python",
   "name": "python3"
  },
  "language_info": {
   "codemirror_mode": {
    "name": "ipython",
    "version": 3
   },
   "file_extension": ".py",
   "mimetype": "text/x-python",
   "name": "python",
   "nbconvert_exporter": "python",
   "pygments_lexer": "ipython3",
   "version": "3.10.5"
  }
 },
 "nbformat": 4,
 "nbformat_minor": 5
}
