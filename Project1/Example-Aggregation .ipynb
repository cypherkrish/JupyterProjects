{
 "cells": [
  {
   "cell_type": "code",
   "execution_count": 1,
   "id": "9155d720",
   "metadata": {},
   "outputs": [
    {
     "name": "stdout",
     "output_type": "stream",
     "text": [
      "       age   income\n",
      "name               \n",
      "Jane  45.0  70000.0\n",
      "John  25.0  50000.0\n",
      "Mary  30.0  55000.0\n",
      "Sara  35.0  60000.0\n",
      "Tom   40.0  65000.0\n"
     ]
    }
   ],
   "source": [
    "import pandas as pd\n",
    "\n",
    "# Create a sample dataset\n",
    "data = {'name': ['John', 'Mary', 'Sara', 'Tom', 'Jane'],\n",
    "        'age': [25, 30, 35, 40, 45],\n",
    "        'income': [50000, 55000, 60000, 65000, 70000]}\n",
    "df = pd.DataFrame(data)\n",
    "\n",
    "# Group the data by name and calculate the mean of the age and income columns\n",
    "grouped_data = df.groupby('name').mean()\n",
    "\n",
    "# Print the resulting dataframe\n",
    "print(grouped_data)"
   ]
  },
  {
   "cell_type": "code",
   "execution_count": null,
   "id": "32db9a0b",
   "metadata": {},
   "outputs": [],
   "source": []
  }
 ],
 "metadata": {
  "kernelspec": {
   "display_name": "Python 3 (ipykernel)",
   "language": "python",
   "name": "python3"
  },
  "language_info": {
   "codemirror_mode": {
    "name": "ipython",
    "version": 3
   },
   "file_extension": ".py",
   "mimetype": "text/x-python",
   "name": "python",
   "nbconvert_exporter": "python",
   "pygments_lexer": "ipython3",
   "version": "3.10.5"
  }
 },
 "nbformat": 4,
 "nbformat_minor": 5
}
