{
 "cells": [
  {
   "cell_type": "code",
   "execution_count": 1,
   "id": "5369b690",
   "metadata": {},
   "outputs": [],
   "source": [
    "import numpy as np"
   ]
  },
  {
   "cell_type": "code",
   "execution_count": 2,
   "id": "4b87c8e5",
   "metadata": {},
   "outputs": [],
   "source": [
    "np.random.seed(0)"
   ]
  },
  {
   "cell_type": "raw",
   "id": "bfb45a7f",
   "metadata": {},
   "source": [
    "'totals' - is thetotal number ofpeople in each age group\n",
    "'purchases' - is the total number of things purchases by the in each group"
   ]
  },
  {
   "cell_type": "code",
   "execution_count": 5,
   "id": "c6503307",
   "metadata": {},
   "outputs": [],
   "source": [
    "totals = {20:0, 30:0, 40:0, 50:0, 60:0, 70:0}\n",
    "purchases = {20:0, 30:0, 40:0, 50:0, 60:0, 70:0}\n",
    "total_purchases = 0"
   ]
  },
  {
   "cell_type": "code",
   "execution_count": 6,
   "id": "08d62d1b",
   "metadata": {},
   "outputs": [],
   "source": [
    "for _ in range(100000):\n",
    "    ageDecage = np.random.choice([20, 30, 40, 50, 60, 70])\n",
    "    purchaseProbability  = float (ageDecage) / 100.0\n",
    "    totals[ageDecage] += 1\n",
    "    if (np.random.random() < purchaseProbability):\n",
    "        total_purchases += 1\n",
    "        purchases[ageDecage] += 1"
   ]
  },
  {
   "cell_type": "code",
   "execution_count": 7,
   "id": "127c75cb",
   "metadata": {},
   "outputs": [
    {
     "data": {
      "text/plain": [
       "{20: 16576, 30: 16619, 40: 16632, 50: 16805, 60: 16664, 70: 16704}"
      ]
     },
     "execution_count": 7,
     "metadata": {},
     "output_type": "execute_result"
    }
   ],
   "source": [
    "totals"
   ]
  },
  {
   "cell_type": "code",
   "execution_count": 8,
   "id": "0acebf33",
   "metadata": {},
   "outputs": [
    {
     "data": {
      "text/plain": [
       "{20: 3392, 30: 4974, 40: 6670, 50: 8319, 60: 9944, 70: 11713}"
      ]
     },
     "execution_count": 8,
     "metadata": {},
     "output_type": "execute_result"
    }
   ],
   "source": [
    "purchases"
   ]
  },
  {
   "cell_type": "code",
   "execution_count": 9,
   "id": "a6d122c8",
   "metadata": {},
   "outputs": [
    {
     "data": {
      "text/plain": [
       "45012"
      ]
     },
     "execution_count": 9,
     "metadata": {},
     "output_type": "execute_result"
    }
   ],
   "source": [
    "total_purchases"
   ]
  },
  {
   "cell_type": "markdown",
   "id": "8527a9f5",
   "metadata": {},
   "source": [
    "## Conditonal probability"
   ]
  },
  {
   "cell_type": "raw",
   "id": "01a159dd",
   "metadata": {},
   "source": [
    "# P(E|F) =>\n",
    "\n",
    "Here E is the 'purchase'\n",
    "F is 'you are in your 30s'\n",
    "\n",
    "PEF => is the probability of some one in their 30s buying something is just the percentage of how many 30-year-olds bought something."
   ]
  },
  {
   "cell_type": "code",
   "execution_count": 13,
   "id": "930cd652",
   "metadata": {},
   "outputs": [
    {
     "name": "stdout",
     "output_type": "stream",
     "text": [
      "P(30's): 0.29929598652145134\n"
     ]
    }
   ],
   "source": [
    "PEF = float(purchases[30] / float (totals[30])) \n",
    "\n",
    "print(\"P(30's): \" + str(PEF))"
   ]
  },
  {
   "cell_type": "raw",
   "id": "6553fb21",
   "metadata": {},
   "source": [
    "P(F) is just the probbility if being 30 in this data set:"
   ]
  },
  {
   "cell_type": "code",
   "execution_count": 16,
   "id": "8cb9dbb5",
   "metadata": {},
   "outputs": [
    {
     "name": "stdout",
     "output_type": "stream",
     "text": [
      "P(30's): 0.16619\n"
     ]
    }
   ],
   "source": [
    "PF = float(totals[30])/100000.0\n",
    "print(\"P(30's): \" + str(PF))"
   ]
  },
  {
   "cell_type": "raw",
   "id": "ee4afb40",
   "metadata": {},
   "source": [
    "And\n",
    "P(E) is the overall probability of buying, regardless of age."
   ]
  },
  {
   "cell_type": "code",
   "execution_count": 18,
   "id": "0b262bef",
   "metadata": {},
   "outputs": [
    {
     "name": "stdout",
     "output_type": "stream",
     "text": [
      "P(Purchase): 0.45012\n"
     ]
    }
   ],
   "source": [
    "PE = float(total_purchases) /100000.0\n",
    "print(\"P(Purchase): \" + str(PE))"
   ]
  },
  {
   "cell_type": "code",
   "execution_count": null,
   "id": "9527bb01",
   "metadata": {},
   "outputs": [],
   "source": []
  }
 ],
 "metadata": {
  "kernelspec": {
   "display_name": "Python 3 (ipykernel)",
   "language": "python",
   "name": "python3"
  },
  "language_info": {
   "codemirror_mode": {
    "name": "ipython",
    "version": 3
   },
   "file_extension": ".py",
   "mimetype": "text/x-python",
   "name": "python",
   "nbconvert_exporter": "python",
   "pygments_lexer": "ipython3",
   "version": "3.10.5"
  }
 },
 "nbformat": 4,
 "nbformat_minor": 5
}
